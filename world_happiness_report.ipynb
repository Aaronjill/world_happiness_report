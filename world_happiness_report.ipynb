{
 "cells": [
  {
   "cell_type": "markdown",
   "metadata": {},
   "source": [
    "Objective\n",
    "\n",
    "To analyze the World Happiness Report dataset to uncover:\n",
    "\n",
    "- Regional and global trends in happiness scores.\n",
    "\n",
    "- Key factors influencing happiness, such as GDP, social support, and life expectancy.\n",
    "\n",
    "- Rankings of countries based on happiness scores.\n",
    "\n",
    "This project will demonstrate skills in data cleaning, grouping, correlation analysis, and visualization."
   ]
  },
  {
   "cell_type": "markdown",
   "metadata": {},
   "source": [
    "📌 Task 1: Load and Inspect the Dataset"
   ]
  },
  {
   "cell_type": "code",
   "execution_count": 4,
   "metadata": {},
   "outputs": [
    {
     "name": "stdout",
     "output_type": "stream",
     "text": [
      "   OverallRank       Country  Score  GDP per capita  Social support  \\\n",
      "0          145   Afghanistan  3.632           0.332           0.537   \n",
      "1          112       Albania  4.586           0.916           0.817   \n",
      "2           84       Algeria  5.295           0.979           1.154   \n",
      "3          142        Angola  3.795           0.730           1.125   \n",
      "4           29     Argentina  6.388           1.073           1.468   \n",
      "\n",
      "   Healthy life expectancy  Freedom to make life choices  Generosity  \\\n",
      "0                    0.255                         0.085       0.191   \n",
      "1                    0.790                         0.419       0.149   \n",
      "2                    0.687                         0.077       0.055   \n",
      "3                    0.269                         0.000       0.079   \n",
      "4                    0.744                         0.570       0.062   \n",
      "\n",
      "   Perceptions of corruption  \n",
      "0                      0.036  \n",
      "1                      0.032  \n",
      "2                      0.135  \n",
      "3                      0.061  \n",
      "4                      0.054  \n",
      "<class 'pandas.core.frame.DataFrame'>\n",
      "RangeIndex: 156 entries, 0 to 155\n",
      "Data columns (total 9 columns):\n",
      " #   Column                        Non-Null Count  Dtype  \n",
      "---  ------                        --------------  -----  \n",
      " 0   OverallRank                   156 non-null    int64  \n",
      " 1   Country                       156 non-null    object \n",
      " 2   Score                         156 non-null    float64\n",
      " 3   GDP per capita                156 non-null    float64\n",
      " 4   Social support                156 non-null    float64\n",
      " 5   Healthy life expectancy       156 non-null    float64\n",
      " 6   Freedom to make life choices  156 non-null    float64\n",
      " 7   Generosity                    156 non-null    float64\n",
      " 8   Perceptions of corruption     155 non-null    float64\n",
      "dtypes: float64(7), int64(1), object(1)\n",
      "memory usage: 11.1+ KB\n",
      "None\n",
      "       OverallRank       Score  GDP per capita  Social support  \\\n",
      "count   156.000000  156.000000      156.000000      156.000000   \n",
      "mean     78.500000    5.375917        0.891449        1.213237   \n",
      "std      45.177428    1.119506        0.391921        0.302372   \n",
      "min       1.000000    2.905000        0.000000        0.000000   \n",
      "25%      39.750000    4.453750        0.616250        1.066750   \n",
      "50%      78.500000    5.378000        0.949500        1.255000   \n",
      "75%     117.250000    6.168500        1.197750        1.463000   \n",
      "max     156.000000    7.632000        2.096000        1.644000   \n",
      "\n",
      "       Healthy life expectancy  Freedom to make life choices  Generosity  \\\n",
      "count               156.000000                    156.000000  156.000000   \n",
      "mean                  0.597346                      0.454506    0.180942   \n",
      "std                   0.247579                      0.162424    0.098460   \n",
      "min                   0.000000                      0.000000    0.000000   \n",
      "25%                   0.422250                      0.356000    0.109500   \n",
      "50%                   0.644000                      0.487000    0.174000   \n",
      "75%                   0.777250                      0.578500    0.239000   \n",
      "max                   1.030000                      0.724000    0.598000   \n",
      "\n",
      "       Perceptions of corruption  \n",
      "count                 155.000000  \n",
      "mean                    0.112000  \n",
      "std                     0.096492  \n",
      "min                     0.000000  \n",
      "25%                     0.051000  \n",
      "50%                     0.082000  \n",
      "75%                     0.137000  \n",
      "max                     0.457000  \n",
      "Index(['OverallRank', 'Country', 'Score', 'GDP per capita', 'Social support',\n",
      "       'Healthy life expectancy', 'Freedom to make life choices', 'Generosity',\n",
      "       'Perceptions of corruption'],\n",
      "      dtype='object')\n"
     ]
    }
   ],
   "source": [
    "import pandas as pd\n",
    "\n",
    "happiness_Data = pd.read_csv(\"world_happiness.csv\")\n",
    "\n",
    "print(happiness_Data.head())\n",
    "print(happiness_Data.info())\n",
    "print(happiness_Data.describe())\n",
    "print(happiness_Data.columns)\n"
   ]
  },
  {
   "cell_type": "markdown",
   "metadata": {},
   "source": [
    "Data Loading\n",
    "\n",
    "- The `world_happiness.csv` dataset contains information on happiness scores for countries worldwide."
   ]
  },
  {
   "cell_type": "markdown",
   "metadata": {},
   "source": [
    "Data Overview\n",
    "- The dataset contains `<number>` rows and `<number>` columns.\n",
    "\n",
    "- Columns include:\n",
    "  - `Country`: Name of the country.\n",
    "\n",
    "  - `OverallRank`: World rank.\n",
    "\n",
    "  - `Score`: The overall happiness score.\n",
    "\n",
    "  - Additional columns for factors such as `GDP per Capita`, `Social Support`, `Healthy Life Expectancy`, and more."
   ]
  },
  {
   "cell_type": "markdown",
   "metadata": {},
   "source": [
    "📌 Task 2: Data Cleaning"
   ]
  },
  {
   "cell_type": "markdown",
   "metadata": {},
   "source": [
    "- Lets remove unwanted spaces from our string content and for that we'll use applymap()"
   ]
  },
  {
   "cell_type": "code",
   "execution_count": 5,
   "metadata": {},
   "outputs": [
    {
     "name": "stderr",
     "output_type": "stream",
     "text": [
      "C:\\Users\\GAMERS\\AppData\\Local\\Temp\\ipykernel_1292\\2679147307.py:1: FutureWarning: DataFrame.applymap has been deprecated. Use DataFrame.map instead.\n",
      "  happiness_Data.applymap(lambda x: x.strip() if isinstance(x, str) else x)\n"
     ]
    },
    {
     "data": {
      "text/html": [
       "<div>\n",
       "<style scoped>\n",
       "    .dataframe tbody tr th:only-of-type {\n",
       "        vertical-align: middle;\n",
       "    }\n",
       "\n",
       "    .dataframe tbody tr th {\n",
       "        vertical-align: top;\n",
       "    }\n",
       "\n",
       "    .dataframe thead th {\n",
       "        text-align: right;\n",
       "    }\n",
       "</style>\n",
       "<table border=\"1\" class=\"dataframe\">\n",
       "  <thead>\n",
       "    <tr style=\"text-align: right;\">\n",
       "      <th></th>\n",
       "      <th>OverallRank</th>\n",
       "      <th>Country</th>\n",
       "      <th>Score</th>\n",
       "      <th>GDP per capita</th>\n",
       "      <th>Social support</th>\n",
       "      <th>Healthy life expectancy</th>\n",
       "      <th>Freedom to make life choices</th>\n",
       "      <th>Generosity</th>\n",
       "      <th>Perceptions of corruption</th>\n",
       "    </tr>\n",
       "  </thead>\n",
       "  <tbody>\n",
       "    <tr>\n",
       "      <th>0</th>\n",
       "      <td>145</td>\n",
       "      <td>Afghanistan</td>\n",
       "      <td>3.632</td>\n",
       "      <td>0.332</td>\n",
       "      <td>0.537</td>\n",
       "      <td>0.255</td>\n",
       "      <td>0.085</td>\n",
       "      <td>0.191</td>\n",
       "      <td>0.036</td>\n",
       "    </tr>\n",
       "    <tr>\n",
       "      <th>1</th>\n",
       "      <td>112</td>\n",
       "      <td>Albania</td>\n",
       "      <td>4.586</td>\n",
       "      <td>0.916</td>\n",
       "      <td>0.817</td>\n",
       "      <td>0.790</td>\n",
       "      <td>0.419</td>\n",
       "      <td>0.149</td>\n",
       "      <td>0.032</td>\n",
       "    </tr>\n",
       "    <tr>\n",
       "      <th>2</th>\n",
       "      <td>84</td>\n",
       "      <td>Algeria</td>\n",
       "      <td>5.295</td>\n",
       "      <td>0.979</td>\n",
       "      <td>1.154</td>\n",
       "      <td>0.687</td>\n",
       "      <td>0.077</td>\n",
       "      <td>0.055</td>\n",
       "      <td>0.135</td>\n",
       "    </tr>\n",
       "    <tr>\n",
       "      <th>3</th>\n",
       "      <td>142</td>\n",
       "      <td>Angola</td>\n",
       "      <td>3.795</td>\n",
       "      <td>0.730</td>\n",
       "      <td>1.125</td>\n",
       "      <td>0.269</td>\n",
       "      <td>0.000</td>\n",
       "      <td>0.079</td>\n",
       "      <td>0.061</td>\n",
       "    </tr>\n",
       "    <tr>\n",
       "      <th>4</th>\n",
       "      <td>29</td>\n",
       "      <td>Argentina</td>\n",
       "      <td>6.388</td>\n",
       "      <td>1.073</td>\n",
       "      <td>1.468</td>\n",
       "      <td>0.744</td>\n",
       "      <td>0.570</td>\n",
       "      <td>0.062</td>\n",
       "      <td>0.054</td>\n",
       "    </tr>\n",
       "    <tr>\n",
       "      <th>...</th>\n",
       "      <td>...</td>\n",
       "      <td>...</td>\n",
       "      <td>...</td>\n",
       "      <td>...</td>\n",
       "      <td>...</td>\n",
       "      <td>...</td>\n",
       "      <td>...</td>\n",
       "      <td>...</td>\n",
       "      <td>...</td>\n",
       "    </tr>\n",
       "    <tr>\n",
       "      <th>151</th>\n",
       "      <td>102</td>\n",
       "      <td>Venezuela</td>\n",
       "      <td>4.806</td>\n",
       "      <td>0.996</td>\n",
       "      <td>1.469</td>\n",
       "      <td>0.657</td>\n",
       "      <td>0.133</td>\n",
       "      <td>0.056</td>\n",
       "      <td>0.052</td>\n",
       "    </tr>\n",
       "    <tr>\n",
       "      <th>152</th>\n",
       "      <td>95</td>\n",
       "      <td>Vietnam</td>\n",
       "      <td>5.103</td>\n",
       "      <td>0.715</td>\n",
       "      <td>1.365</td>\n",
       "      <td>0.702</td>\n",
       "      <td>0.618</td>\n",
       "      <td>0.177</td>\n",
       "      <td>0.079</td>\n",
       "    </tr>\n",
       "    <tr>\n",
       "      <th>153</th>\n",
       "      <td>152</td>\n",
       "      <td>Yemen</td>\n",
       "      <td>3.355</td>\n",
       "      <td>0.442</td>\n",
       "      <td>1.073</td>\n",
       "      <td>0.343</td>\n",
       "      <td>0.244</td>\n",
       "      <td>0.083</td>\n",
       "      <td>0.064</td>\n",
       "    </tr>\n",
       "    <tr>\n",
       "      <th>154</th>\n",
       "      <td>125</td>\n",
       "      <td>Zambia</td>\n",
       "      <td>4.377</td>\n",
       "      <td>0.562</td>\n",
       "      <td>1.047</td>\n",
       "      <td>0.295</td>\n",
       "      <td>0.503</td>\n",
       "      <td>0.221</td>\n",
       "      <td>0.082</td>\n",
       "    </tr>\n",
       "    <tr>\n",
       "      <th>155</th>\n",
       "      <td>144</td>\n",
       "      <td>Zimbabwe</td>\n",
       "      <td>3.692</td>\n",
       "      <td>0.357</td>\n",
       "      <td>1.094</td>\n",
       "      <td>0.248</td>\n",
       "      <td>0.406</td>\n",
       "      <td>0.132</td>\n",
       "      <td>0.099</td>\n",
       "    </tr>\n",
       "  </tbody>\n",
       "</table>\n",
       "<p>156 rows × 9 columns</p>\n",
       "</div>"
      ],
      "text/plain": [
       "     OverallRank      Country  Score  GDP per capita  Social support  \\\n",
       "0            145  Afghanistan  3.632           0.332           0.537   \n",
       "1            112      Albania  4.586           0.916           0.817   \n",
       "2             84      Algeria  5.295           0.979           1.154   \n",
       "3            142       Angola  3.795           0.730           1.125   \n",
       "4             29    Argentina  6.388           1.073           1.468   \n",
       "..           ...          ...    ...             ...             ...   \n",
       "151          102    Venezuela  4.806           0.996           1.469   \n",
       "152           95      Vietnam  5.103           0.715           1.365   \n",
       "153          152        Yemen  3.355           0.442           1.073   \n",
       "154          125       Zambia  4.377           0.562           1.047   \n",
       "155          144     Zimbabwe  3.692           0.357           1.094   \n",
       "\n",
       "     Healthy life expectancy  Freedom to make life choices  Generosity  \\\n",
       "0                      0.255                         0.085       0.191   \n",
       "1                      0.790                         0.419       0.149   \n",
       "2                      0.687                         0.077       0.055   \n",
       "3                      0.269                         0.000       0.079   \n",
       "4                      0.744                         0.570       0.062   \n",
       "..                       ...                           ...         ...   \n",
       "151                    0.657                         0.133       0.056   \n",
       "152                    0.702                         0.618       0.177   \n",
       "153                    0.343                         0.244       0.083   \n",
       "154                    0.295                         0.503       0.221   \n",
       "155                    0.248                         0.406       0.132   \n",
       "\n",
       "     Perceptions of corruption  \n",
       "0                        0.036  \n",
       "1                        0.032  \n",
       "2                        0.135  \n",
       "3                        0.061  \n",
       "4                        0.054  \n",
       "..                         ...  \n",
       "151                      0.052  \n",
       "152                      0.079  \n",
       "153                      0.064  \n",
       "154                      0.082  \n",
       "155                      0.099  \n",
       "\n",
       "[156 rows x 9 columns]"
      ]
     },
     "execution_count": 5,
     "metadata": {},
     "output_type": "execute_result"
    }
   ],
   "source": [
    "happiness_Data.applymap(lambda x: x.strip() if isinstance(x, str) else x)"
   ]
  },
  {
   "cell_type": "code",
   "execution_count": 6,
   "metadata": {},
   "outputs": [
    {
     "name": "stdout",
     "output_type": "stream",
     "text": [
      "null: OverallRank                     0\n",
      "Country                         0\n",
      "Score                           0\n",
      "GDP per capita                  0\n",
      "Social support                  0\n",
      "Healthy life expectancy         0\n",
      "Freedom to make life choices    0\n",
      "Generosity                      0\n",
      "Perceptions of corruption       1\n",
      "dtype: int64\n"
     ]
    }
   ],
   "source": [
    "print(\"null:\", happiness_Data.isnull().sum())"
   ]
  },
  {
   "cell_type": "markdown",
   "metadata": {},
   "source": [
    "Handling Missing Values\n",
    "\n",
    "We need to check if any columns contain missing values and handle them appropriately.\n",
    "\n",
    "For numerical columns, we'll replace missing values with the **mean** or **median**.\n"
   ]
  },
  {
   "cell_type": "markdown",
   "metadata": {},
   "source": [
    "Why mean?\n",
    "\n",
    "- It preservers data distribution\n",
    "\n",
    "- Prevent data loss\n",
    "\n",
    "- Missing data cannot be proccessed by machine learning models\n",
    "\n",
    "- It helps prserves all available records "
   ]
  },
  {
   "cell_type": "markdown",
   "metadata": {},
   "source": [
    "- Now we've handled the missing value situiation but first i will like to tell you some tricks when and when not to use mean.\n",
    "\n",
    "When NOT to Use the Mean\n",
    "While using the mean is effective in many cases, there are better alternatives in different scenarios:\n",
    "\n",
    "📌 When NOT to Use the Mean\n",
    "While using the mean is effective in many cases, there are better alternatives in different scenarios:\n",
    "\n",
    "- Situation\t                    - Best Replacement Method\n",
    "\n",
    "- Skewed Data (Outliers Present) - Use the median instead of the mean.\n",
    "\n",
    "- Categorical Data(e.g.Region,Country) - Use the mode (most frequent value).\n",
    "\n",
    "- Time-Series Data -\tUse the previous/next value (interpolation).\n",
    "\n",
    "- Large Missing Sections- Consider dropping the column or using predictive modeling.\n",
    "\n",
    "📌 Understanding Skewed Data & How to Check Distribution\n",
    "\n",
    "- Skewed data refers to a dataset where values are not symmetrically distributed around the mean. In simpler terms, if most data points are clustered on one side with a long tail on the other, the data is skewed.\n",
    "\n",
    "1️⃣ What is Skewness?\n",
    "\n",
    "Skewed data refers to a dataset where values are not symmetrically distributed around the mean. In simpler terms, if most data points are clustered on one side with a long tail on the other, the data is skewed.\n",
    "\n",
    "Types of Skewness:\n",
    "\n",
    "📈 Right Skewed (Positive Skew)\n",
    "\n",
    "- Tail is longer on the right side (higher values are stretched out).\n",
    "The mean > median.\n",
    "\n",
    "Example: Income Distribution (most people earn less, but a few earn extremely high amounts).\n",
    "\n",
    "📉 Left Skewed (Negative Skew)\n",
    "\n",
    "- Tail is longer on the left side (lower values are stretched out).\n",
    "The mean < median.\n",
    "\n",
    "Example: Age of Retirement (most people retire around the same age, but a few retire much earlier).\n",
    "\n",
    "🔍 Symmetric (Normal Distribution)\n",
    "\n",
    "- Evenly distributed around the center.\n",
    "Mean ≈ Median ≈ Mode.\n",
    "\n",
    "Example: Height of people (most heights fall around the average with few extremes).\n",
    "\n",
    "\n",
    "\n"
   ]
  },
  {
   "cell_type": "markdown",
   "metadata": {},
   "source": [
    "2️⃣ How to Check if Data is Skewed?\n",
    "\n",
    "📌 Method 1: Summary Statistics (Check Mean & Median)\n",
    "\n",
    "Lets Check out this way:\n"
   ]
  },
  {
   "cell_type": "code",
   "execution_count": 7,
   "metadata": {},
   "outputs": [
    {
     "name": "stdout",
     "output_type": "stream",
     "text": [
      "data is right-skewed.\n"
     ]
    }
   ],
   "source": [
    "if happiness_Data[\"Perceptions of corruption\"].mean() > happiness_Data[\"Perceptions of corruption\"].median():\n",
    "    print(\"data is right-skewed.\")\n",
    "elif happiness_Data[\"Perceptions of corruption\"].mean() < happiness_Data[\"Perceptions of corruption\"].median():\n",
    "    print(\"data is left-skewed.\")\n",
    "else:\n",
    "    print(\"data is normally distributed.\")"
   ]
  },
  {
   "cell_type": "markdown",
   "metadata": {},
   "source": [
    "✅ Interpretation:\n",
    "\n",
    "If mean > median, data is right-skewed - median.\n",
    "\n",
    "If mean < median, data is left-skewed  - median.\n",
    "\n",
    "If mean ≈ median, data is normally distributed - mean.\n"
   ]
  },
  {
   "cell_type": "markdown",
   "metadata": {},
   "source": [
    "- According to the Method-1 (Statistics) our data is right-skewed."
   ]
  },
  {
   "cell_type": "markdown",
   "metadata": {},
   "source": [
    "📌 Method 2: Histogram Plot\n",
    "\n",
    "Lets check out this way now:\n"
   ]
  },
  {
   "cell_type": "code",
   "execution_count": 8,
   "metadata": {},
   "outputs": [
    {
     "data": {
      "image/png": "[encoded data removed]",
      "text/plain": [
       "<Figure size 800x500 with 1 Axes>"
      ]
     },
     "metadata": {},
     "output_type": "display_data"
    }
   ],
   "source": [
    "import matplotlib.pyplot as plt\n",
    "import seaborn as sns\n",
    "\n",
    "# Plot histogram\n",
    "plt.figure(figsize=(8, 5))\n",
    "sns.histplot(happiness_Data[\"Perceptions of corruption\"], bins=20, kde=True)\n",
    "plt.title(\"Distribution of corruption score \")\n",
    "plt.xlabel(\"Perceptions of corruption score\")\n",
    "plt.ylabel(\"Frequency\")\n",
    "plt.show()"
   ]
  },
  {
   "cell_type": "markdown",
   "metadata": {},
   "source": [
    "- According to this also our data is right-skewed.\n",
    "\n",
    "- A long tail on the right = Right-skewed.\n",
    "✅ Interpretation:\n",
    "\n",
    "A bell-shaped curve = Normal distribution.\n",
    "\n",
    "A long tail on the right = Right-skewed.\n",
    "\n",
    "A long tail on the left = Left-skewed."
   ]
  },
  {
   "cell_type": "markdown",
   "metadata": {},
   "source": [
    "- Data Type\t- Recommended Replacement for Missing Values\n",
    "\n",
    "- Normally Distributed\t- Replace with Mean\n",
    "\n",
    "- Right-Skewed\t- Replace with Median\n",
    "\n",
    "- Left-Skewed\t- Replace with Median"
   ]
  },
  {
   "cell_type": "markdown",
   "metadata": {},
   "source": [
    "📌 Method 3: Skewness Calculation\n",
    "\n",
    "Skewness values provide a numerical way to measure the extent of skew."
   ]
  },
  {
   "cell_type": "markdown",
   "metadata": {},
   "source": [
    "1️⃣ Comparing Skewness with 0:\n",
    "\n",
    "Use this when you want to check for a perfectly normal distribution.\n",
    "\n",
    "Skewness = 0 → Perfectly normal (symmetrical) distribution.\n",
    "\n",
    "Skewness > 0 → Right-skewed.\n",
    "\n",
    "Skewness < 0 → Left-skewed.\n",
    "\n",
    "📌 When to use this?\n",
    "\n",
    "When working with strictly normal distributions (e.g., certain statistical models assume normality).\n",
    "\n",
    "If you need precise Gaussian (bell curve) distributions."
   ]
  },
  {
   "cell_type": "markdown",
   "metadata": {},
   "source": [
    "2️⃣ Comparing Skewness with 0.5:\n",
    "\n",
    "Use this when deciding whether to treat the data as skewed or normal.\n",
    "\n",
    "Skewness between -0.5 and 0.5 → Data is approximately normal.\n",
    "\n",
    "Skewness > 0.5 → Moderate right skew.\n",
    "\n",
    "Skewness < -0.5 → Moderate left skew.\n",
    "\n",
    "Skewness > 1 or < -1 → Highly skewed data.\n",
    "\n",
    "📌 When to use this?\n",
    "\n",
    "When determining whether to replace missing values with mean (for normal data) or median (for skewed data).\n",
    "\n",
    "If the skewness is between -0.5 and 0.5, mean imputation is acceptable.\n",
    "\n",
    "If skewness is beyond ±0.5, use the median instead."
   ]
  },
  {
   "cell_type": "markdown",
   "metadata": {},
   "source": [
    "so we'll use 0.5 comparison\n"
   ]
  },
  {
   "cell_type": "markdown",
   "metadata": {},
   "source": [
    "When determining whether to replace missing values with mean (for normal data) or median (for skewed data).\n",
    "\n",
    "If the skewness is between -0.5 and 0.5, mean imputation is acceptable.\n",
    "\n",
    "If skewness is beyond ±0.5, use the median instead."
   ]
  },
  {
   "cell_type": "code",
   "execution_count": 9,
   "metadata": {},
   "outputs": [
    {
     "name": "stdout",
     "output_type": "stream",
     "text": [
      "1.6796783330570055\n"
     ]
    }
   ],
   "source": [
    "skew_value = happiness_Data[\"Perceptions of corruption\"].skew()\n",
    "\n",
    "if -0.5 <= skew_value <=  0.5 :\n",
    "    happiness_Data.fillna(happiness_Data[\"Perceptions of corruption\"].mean(), inplace=True)\n",
    "else:\n",
    "    happiness_Data.fillna(happiness_Data[\"Perceptions of corruption\"].median(), inplace=True)\n",
    "print(skew_value)"
   ]
  },
  {
   "cell_type": "markdown",
   "metadata": {},
   "source": [
    "So we've tackled our null value problem and from now on always use 2 methods atleast including .skew()\n",
    "\n",
    "- so we've replaced the null value by median"
   ]
  },
  {
   "cell_type": "markdown",
   "metadata": {},
   "source": [
    "📌 Checking for Duplicates\n",
    "\n",
    "Duplicate records can distort our analysis, so we need to remove them if they exist."
   ]
  },
  {
   "cell_type": "code",
   "execution_count": 10,
   "metadata": {},
   "outputs": [
    {
     "name": "stdout",
     "output_type": "stream",
     "text": [
      "duplicates: 0\n"
     ]
    }
   ],
   "source": [
    "print(\"duplicates:\" , happiness_Data.duplicated().sum())"
   ]
  },
  {
   "cell_type": "markdown",
   "metadata": {},
   "source": [
    "- We have 0 duplicated data in our happiness_data, so lets move forward\n"
   ]
  },
  {
   "cell_type": "markdown",
   "metadata": {},
   "source": [
    "📌 Task 3: Exploratory Data Analysis (EDA)"
   ]
  },
  {
   "cell_type": "markdown",
   "metadata": {},
   "source": [
    "📌 Descriptive Statistics\n",
    "\n",
    "To understand the distribution of data, we'll compute summary statistics for numerical columns."
   ]
  },
  {
   "cell_type": "code",
   "execution_count": 11,
   "metadata": {},
   "outputs": [
    {
     "name": "stdout",
     "output_type": "stream",
     "text": [
      "       OverallRank       Score  GDP per capita  Social support  \\\n",
      "count   156.000000  156.000000      156.000000      156.000000   \n",
      "mean     78.500000    5.375917        0.891449        1.213237   \n",
      "std      45.177428    1.119506        0.391921        0.302372   \n",
      "min       1.000000    2.905000        0.000000        0.000000   \n",
      "25%      39.750000    4.453750        0.616250        1.066750   \n",
      "50%      78.500000    5.378000        0.949500        1.255000   \n",
      "75%     117.250000    6.168500        1.197750        1.463000   \n",
      "max     156.000000    7.632000        2.096000        1.644000   \n",
      "\n",
      "       Healthy life expectancy  Freedom to make life choices  Generosity  \\\n",
      "count               156.000000                    156.000000  156.000000   \n",
      "mean                  0.597346                      0.454506    0.180942   \n",
      "std                   0.247579                      0.162424    0.098460   \n",
      "min                   0.000000                      0.000000    0.000000   \n",
      "25%                   0.422250                      0.356000    0.109500   \n",
      "50%                   0.644000                      0.487000    0.174000   \n",
      "75%                   0.777250                      0.578500    0.239000   \n",
      "max                   1.030000                      0.724000    0.598000   \n",
      "\n",
      "       Perceptions of corruption  \n",
      "count                 156.000000  \n",
      "mean                    0.111808  \n",
      "std                     0.096210  \n",
      "min                     0.000000  \n",
      "25%                     0.051000  \n",
      "50%                     0.082000  \n",
      "75%                     0.136500  \n",
      "max                     0.457000  \n"
     ]
    }
   ],
   "source": [
    "print(happiness_Data.describe())"
   ]
  },
  {
   "cell_type": "markdown",
   "metadata": {},
   "source": [
    "Markdown: Counting Unique Values"
   ]
  },
  {
   "cell_type": "markdown",
   "metadata": {},
   "source": [
    "📌 Counting Unique Values\n",
    "\n",
    "We'll check how many unique countries are present in the dataset."
   ]
  },
  {
   "cell_type": "code",
   "execution_count": 12,
   "metadata": {},
   "outputs": [
    {
     "name": "stdout",
     "output_type": "stream",
     "text": [
      "156 unique countries in the dataset.\n"
     ]
    }
   ],
   "source": [
    "print(happiness_Data[\"Country\"].nunique(),\"unique countries in the dataset.\")"
   ]
  },
  {
   "cell_type": "markdown",
   "metadata": {},
   "source": [
    "So we also don't have duplicated countries."
   ]
  },
  {
   "cell_type": "markdown",
   "metadata": {},
   "source": [
    "📌 Task 3.2: Identify Extremes"
   ]
  },
  {
   "cell_type": "markdown",
   "metadata": {},
   "source": [
    "📌 Identifying Extremes\n",
    "\n",
    "We'll find the **happiest country** (highest happiness score) and the **least happy country** (lowest happiness score)."
   ]
  },
  {
   "cell_type": "code",
   "execution_count": 13,
   "metadata": {},
   "outputs": [
    {
     "name": "stdout",
     "output_type": "stream",
     "text": [
      "OverallRank                            1\n",
      "Country                          Finland\n",
      "Score                              7.632\n",
      "GDP per capita                     1.305\n",
      "Social support                     1.592\n",
      "Healthy life expectancy            0.874\n",
      "Freedom to make life choices       0.681\n",
      "Generosity                         0.192\n",
      "Perceptions of corruption          0.393\n",
      "Name: 44, dtype: object OverallRank                          156\n",
      "Country                          Burundi\n",
      "Score                              2.905\n",
      "GDP per capita                     0.091\n",
      "Social support                     0.627\n",
      "Healthy life expectancy            0.145\n",
      "Freedom to make life choices       0.065\n",
      "Generosity                         0.149\n",
      "Perceptions of corruption          0.076\n",
      "Name: 22, dtype: object\n"
     ]
    }
   ],
   "source": [
    "max_happiness = happiness_Data.loc[happiness_Data[\"Score\"].idxmax()]\n",
    "\n",
    "min_happiness = happiness_Data.loc[happiness_Data[\"Score\"].idxmin()]\n",
    "\n",
    "print(max_happiness,min_happiness)"
   ]
  },
  {
   "cell_type": "markdown",
   "metadata": {},
   "source": [
    "- Extremes analysis observation\n",
    "\n",
    "- Happiest country is Finlad with Score 7.632\n",
    "\n",
    "- Least happiest country is Burundi with score 2.905\n",
    "\n",
    "- And, as we can see the Gdp per capita is also affecting the score and we'll check this analysis next which is **Correlation Analysis**"
   ]
  },
  {
   "cell_type": "markdown",
   "metadata": {},
   "source": [
    "📌 Correlation Analysis\n",
    "\n",
    "We'll examine how happiness is correlated with factors like GDP, social support, and corruption perception."
   ]
  },
  {
   "cell_type": "code",
   "execution_count": 14,
   "metadata": {},
   "outputs": [
    {
     "name": "stdout",
     "output_type": "stream",
     "text": [
      "OverallRank                       int64\n",
      "Country                          object\n",
      "Score                           float64\n",
      "GDP per capita                  float64\n",
      "Social support                  float64\n",
      "Healthy life expectancy         float64\n",
      "Freedom to make life choices    float64\n",
      "Generosity                      float64\n",
      "Perceptions of corruption       float64\n",
      "dtype: object\n"
     ]
    }
   ],
   "source": [
    "print(happiness_Data.dtypes)"
   ]
  },
  {
   "cell_type": "markdown",
   "metadata": {},
   "source": [
    "- For correlation analysis we need only numeric data."
   ]
  },
  {
   "cell_type": "code",
   "execution_count": 15,
   "metadata": {},
   "outputs": [
    {
     "name": "stdout",
     "output_type": "stream",
     "text": [
      "                              OverallRank     Score  GDP per capita  \\\n",
      "OverallRank                      1.000000 -0.991749       -0.804466   \n",
      "Score                           -0.991749  1.000000        0.800976   \n",
      "GDP per capita                  -0.804466  0.800976        1.000000   \n",
      "Social support                  -0.737500  0.745760        0.671733   \n",
      "Healthy life expectancy         -0.777837  0.775122        0.844273   \n",
      "Freedom to make life choices    -0.530786  0.544280        0.321775   \n",
      "Generosity                      -0.102489  0.134519       -0.014150   \n",
      "Perceptions of corruption       -0.366387  0.400596        0.294777   \n",
      "\n",
      "                              Social support  Healthy life expectancy  \\\n",
      "OverallRank                        -0.737500                -0.777837   \n",
      "Score                               0.745760                 0.775122   \n",
      "GDP per capita                      0.671733                 0.844273   \n",
      "Social support                      1.000000                 0.667079   \n",
      "Healthy life expectancy             0.667079                 1.000000   \n",
      "Freedom to make life choices        0.411087                 0.349144   \n",
      "Generosity                          0.017407                 0.018685   \n",
      "Perceptions of corruption           0.219718                 0.309626   \n",
      "\n",
      "                              Freedom to make life choices  Generosity  \\\n",
      "OverallRank                                      -0.530786   -0.102489   \n",
      "Score                                             0.544280    0.134519   \n",
      "GDP per capita                                    0.321775   -0.014150   \n",
      "Social support                                    0.411087    0.017407   \n",
      "Healthy life expectancy                           0.349144    0.018685   \n",
      "Freedom to make life choices                      1.000000    0.297106   \n",
      "Generosity                                        0.297106    1.000000   \n",
      "Perceptions of corruption                         0.462756    0.360154   \n",
      "\n",
      "                              Perceptions of corruption  \n",
      "OverallRank                                   -0.366387  \n",
      "Score                                          0.400596  \n",
      "GDP per capita                                 0.294777  \n",
      "Social support                                 0.219718  \n",
      "Healthy life expectancy                        0.309626  \n",
      "Freedom to make life choices                   0.462756  \n",
      "Generosity                                     0.360154  \n",
      "Perceptions of corruption                      1.000000  \n"
     ]
    }
   ],
   "source": [
    "numeric_data = happiness_Data.select_dtypes(include=\"number\")\n",
    "\n",
    "correlation_matrix = numeric_data.corr()\n",
    "\n",
    "print(correlation_matrix)"
   ]
  },
  {
   "cell_type": "markdown",
   "metadata": {},
   "source": [
    "Correlation Analysis"
   ]
  },
  {
   "cell_type": "code",
   "execution_count": 17,
   "metadata": {},
   "outputs": [
    {
     "data": {
      "image/png": "[encoded data removed]",
      "text/plain": [
       "<Figure size 1000x600 with 2 Axes>"
      ]
     },
     "metadata": {},
     "output_type": "display_data"
    }
   ],
   "source": [
    "plt.figure(figsize=(10, 6))\n",
    "sns.heatmap(correlation_matrix, annot=True, cmap=\"coolwarm\", fmt=\".2f\")\n",
    "plt.title(\"Correlation Matrix Heatmap\")\n",
    "plt.show()"
   ]
  },
  {
   "cell_type": "markdown",
   "metadata": {},
   "source": [
    "1️⃣ Correlation Value Interpretation\n",
    "\n",
    "Correlation Value (r)\tMeaning\n",
    "\n",
    "r = 1\tPerfect positive correlation (⬆⬆ or ⬇⬇)\n",
    "\n",
    "r > 0.7\tStrong positive correlation\n",
    "\n",
    "r = 0.3 to 0.7\tModerate positive correlation\n",
    "\n",
    "r = 0 to 0.3\tWeak positive correlation\n",
    "\n",
    "r = 0\tNo correlation (variables are independent)\n",
    "\n",
    "r = -0.3 to -0.7\tModerate negative correlation\n",
    "\n",
    "r < -0.7\tStrong negative correlation\n",
    "\n",
    "r = -1\tPerfect negative correlation (⬆⬇)\n",
    "\n",
    "📌 Key Idea:\n",
    "\n",
    "Positive correlation (e.g., 0.80) → When one variable increases, the other also increases.\n",
    "\n",
    "Negative correlation (e.g., -0.80) → When one variable increases, the other decreases.\n",
    "\n",
    "Closer to 0 → No meaningful relationship between the variables.\n"
   ]
  },
  {
   "cell_type": "markdown",
   "metadata": {},
   "source": [
    "2️⃣ Key Insights from Your Correlation Matrix\n",
    "From the matrix in your image, let’s break down some important relationships:\n",
    "\n",
    "> 1. Strong Positive Correlations (r > 0.7)\n",
    "\n",
    "✅ Score vs GDP per capita (0.80)\n",
    "\n",
    "- Countries with higher GDP per capita tend to have higher happiness scores.\n",
    "\n",
    "- Economic prosperity is a key factor in happiness.\n",
    "\n",
    "✅ Score vs Social Support (0.75)\n",
    "\n",
    "- Countries with strong social support systems tend to have higher happiness scores.\n",
    "\n",
    "- Indicates that economic factors alone do not determine happiness.\n",
    "\n",
    "✅ Score vs Healthy Life Expectancy (0.77)\n",
    "\n",
    "\n",
    "- Higher life expectancy is associated with higher happiness.\n",
    "\n",
    "- This suggests good healthcare systems contribute to national happiness.\n",
    "\n",
    "> 2. Moderate Positive Correlations (0.3 to 0.7)\n",
    "\n",
    "✅ Score vs Freedom to Make Life Choices (0.54)\n",
    "\n",
    "- People in countries with more personal freedom report higher happiness.\n",
    "\n",
    "- Indicates that government policies affecting individual freedoms impact happiness.\n",
    "\n",
    "✅ Score vs Generosity (0.13)\n",
    "\n",
    "- A weaker relationship, but countries with higher generosity levels tend to have higher happiness.\n",
    "\n",
    "- This is less significant compared to GDP or health.\n",
    "\n",
    "✅ Score vs Perceptions of Corruption (0.40)\n",
    "\n",
    "- Less corruption is associated with higher happiness.\n",
    "\n",
    "- Not as strong as economic or social factors, but still important.\n",
    "\n",
    "> 3. Strong Negative Correlations (r < -0.7)\n",
    "\n",
    "❌ Overall Rank vs Score (-0.99)\n",
    "\n",
    "- Since lower rank means higher happiness, this is expected.\n",
    "\n",
    "❌ Overall Rank vs GDP per capita (-0.80)\n",
    "\n",
    "- Higher-ranked (happier) countries tend to have higher GDP per capita.\n",
    "\n",
    "❌ Overall Rank vs Social Support (-0.73)\n",
    "\n",
    "- Higher-ranked (happier) countries tend to have better social support systems.\n",
    "\n",
    "📌 Interpretation:\n",
    "\n",
    "- Lower ranking = Higher happiness (because the best country is ranked #1).\n",
    "\n",
    "- We expect strong negative correlations with factors that contribute to happiness."
   ]
  },
  {
   "cell_type": "markdown",
   "metadata": {},
   "source": [
    "3️⃣ How to Use This Analysis?\n",
    "\n",
    "> 1. Key Takeaways\n",
    "\n",
    "🔹 Happiness is strongly influenced by GDP per capita, social support, and life expectancy.\n",
    "\n",
    "🔹 Corruption has a moderate impact—less corruption leads to more happiness.\n",
    "\n",
    "🔹 Freedom to make life choices is important, but generosity has a smaller impact."
   ]
  },
  {
   "cell_type": "markdown",
   "metadata": {},
   "source": [
    "> 4️⃣ Conclusion\n",
    "\n",
    "- Factor\tImpact on Happiness Score\n",
    "\n",
    "- GDP per capita\t 🟢 Strong Positive (0.80)\n",
    "\n",
    "- Social support\t🟢 Strong Positive (0.75)\n",
    "\n",
    "- Healthy life expectancy\t🟢 Strong Positive (0.77)\n",
    "\n",
    "- Freedom to make life choices\t🟢 Moderate Positive (0.54)\n",
    "\n",
    "- Generosity\t🟢 Weak Positive (0.13)\n",
    "\n",
    "- Perceptions of corruption\t🔴 Moderate Negative (-0.40)\n",
    "\n"
   ]
  },
  {
   "cell_type": "markdown",
   "metadata": {},
   "source": [
    "# Scatterplot"
   ]
  },
  {
   "cell_type": "markdown",
   "metadata": {},
   "source": [
    "📌 On the basis of our Correlation analysis we'll make scatterplot on the one of the biggest factor affection happines index in country"
   ]
  },
  {
   "cell_type": "code",
   "execution_count": 32,
   "metadata": {},
   "outputs": [
    {
     "data": {
      "image/png": "[encoded data removed]",
      "text/plain": [
       "<Figure size 800x500 with 1 Axes>"
      ]
     },
     "metadata": {},
     "output_type": "display_data"
    }
   ],
   "source": [
    "import seaborn as sns\n",
    "import matplotlib.pyplot as plt\n",
    "\n",
    "plt.figure(figsize=(8,5))\n",
    "sns.scatterplot(x=happiness_Data[\"GDP per capita\"], y=happiness_Data[\"Score\"])\n",
    "plt.title(\"Happiness Score vs GDP per Capita\")\n",
    "plt.xlabel(\"GDP per Capita\")\n",
    "plt.ylabel(\"Happiness Score\")\n",
    "plt.show()"
   ]
  },
  {
   "cell_type": "markdown",
   "metadata": {},
   "source": [
    "📌 Visualization: Top 10 Happiest Countries\n",
    "\n",
    "A bar chart helps us see which countries have the highest happiness scores."
   ]
  },
  {
   "cell_type": "code",
   "execution_count": 21,
   "metadata": {},
   "outputs": [
    {
     "name": "stderr",
     "output_type": "stream",
     "text": [
      "C:\\Users\\GAMERS\\AppData\\Local\\Temp\\ipykernel_1292\\2456715425.py:9: FutureWarning: \n",
      "\n",
      "Passing `palette` without assigning `hue` is deprecated and will be removed in v0.14.0. Assign the `y` variable to `hue` and set `legend=False` for the same effect.\n",
      "\n",
      "  sns.barplot(data=top_10, x=\"Score\", y=\"Country\", palette=\"viridis\")\n"
     ]
    },
    {
     "data": {
      "image/png": "[encoded data removed]",
      "text/plain": [
       "<Figure size 1200x600 with 1 Axes>"
      ]
     },
     "metadata": {},
     "output_type": "display_data"
    }
   ],
   "source": [
    "import matplotlib.pyplot as plt\n",
    "import seaborn as sns\n",
    "\n",
    "# Select top 10 happiest countries\n",
    "top_10 = happiness_Data.nlargest(10, 'Score')\n",
    "\n",
    "# Plot\n",
    "plt.figure(figsize=(12, 6))\n",
    "sns.barplot(data=top_10, x=\"Score\", y=\"Country\", palette=\"viridis\")\n",
    "plt.title(\"Top 10 Happiest Countries\")\n",
    "plt.xlabel(\"Happiness Score\")\n",
    "plt.ylabel(\"Country\")\n",
    "plt.show()"
   ]
  },
  {
   "cell_type": "markdown",
   "metadata": {},
   "source": [
    "📌 Visualization: Distribution of Happiness Scores\n",
    "\n",
    "A box plot helps us understand how happiness scores are distributed across countries."
   ]
  },
  {
   "cell_type": "code",
   "execution_count": 31,
   "metadata": {},
   "outputs": [
    {
     "data": {
      "image/png": "[encoded data removed]",
      "text/plain": [
       "<Figure size 1000x600 with 1 Axes>"
      ]
     },
     "metadata": {},
     "output_type": "display_data"
    }
   ],
   "source": [
    "plt.figure(figsize=(10, 6))\n",
    "sns.boxplot(data=happiness_Data, x=\"Score\",showfliers=True)\n",
    "plt.title(\"Distribution of Happiness Scores\")\n",
    "plt.xlabel(\"Happiness Score\")\n",
    "plt.show()\n"
   ]
  },
  {
   "cell_type": "markdown",
   "metadata": {},
   "source": [
    "📌 Task 5: Save the Cleaned Data"
   ]
  },
  {
   "cell_type": "code",
   "execution_count": 24,
   "metadata": {},
   "outputs": [],
   "source": [
    "happiness_Data.to_csv('cleaned_world_happiness.csv', index=False)"
   ]
  },
  {
   "cell_type": "markdown",
   "metadata": {},
   "source": [
    "📌 Saving the Cleaned Data\n",
    "\n",
    "To ensure reproducibility, we'll save the cleaned dataset for future analysis."
   ]
  },
  {
   "cell_type": "markdown",
   "metadata": {},
   "source": [
    "📌 Conclusion\n",
    "\n",
    "- The happiest country is **Finland** with a score of **7.632**.\n",
    "\n",
    "- The least happy country is **Burundi** with a score of **2.905**.\n",
    "\n",
    "> Correlation analysis Observation\n",
    "\n",
    "- GDP per capita and social support have the strongest correlation with happiness.\n",
    "\n",
    "- Countries with higher perceived corruption tend to have lower happiness scores.\n"
   ]
  }
 ],
 "metadata": {
  "kernelspec": {
   "display_name": "Python 3",
   "language": "python",
   "name": "python3"
  },
  "language_info": {
   "codemirror_mode": {
    "name": "ipython",
    "version": 3
   },
   "file_extension": ".py",
   "mimetype": "text/x-python",
   "name": "python",
   "nbconvert_exporter": "python",
   "pygments_lexer": "ipython3",
   "version": "3.12.8"
  }
 },
 "nbformat": 4,
 "nbformat_minor": 2
}
